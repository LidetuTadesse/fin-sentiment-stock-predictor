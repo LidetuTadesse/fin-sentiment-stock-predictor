{
 "cells": [
  {
   "cell_type": "code",
   "execution_count": 35,
   "id": "542c6f3a",
   "metadata": {},
   "outputs": [],
   "source": [
    "import sys\n",
    "import os\n",
    "\n",
    "\n",
    "import numpy as np\n",
    "import pandas as pd\n",
    "import matplotlib.pyplot as plt\n",
    "import seaborn as sns\n",
    "from textblob import TextBlob\n",
    "\n",
    "# Go one folder up\n",
    "sys.path.append(os.path.abspath(\"..\"))\n",
    "\n",
    "from analysis_utils import preprocess_news, preprocess_stock, merge_and_correlate"
   ]
  },
  {
   "cell_type": "code",
   "execution_count": 36,
   "id": "81297ef9",
   "metadata": {},
   "outputs": [],
   "source": [
    "# new_data\n",
    "news_data = pd.read_csv(\"../data/raw_analyst_ratings.csv\")  # shared news dataset\n"
   ]
  },
  {
   "cell_type": "code",
   "execution_count": 37,
   "id": "a1895b52",
   "metadata": {},
   "outputs": [],
   "source": [
    "stock_df_apple = pd.read_csv(\"../Data/AAPL_historical_data.csv\")  \n",
    "stock_df_amzn = pd.read_csv(\"../Data/AMZN_historical_data.csv\")  \n",
    "stock_df_goog = pd.read_csv(\"../Data/GOOG_historical_data.csv\")  \n",
    "stock_df_meta = pd.read_csv(\"../Data/META_historical_data.csv\")  \n",
    "stock_df_msft = pd.read_csv(\"../Data/MSFT_historical_data.csv\")  \n",
    "stock_df_nvda = pd.read_csv(\"../Data/NVDA_historical_data.csv\")  \n",
    "stock_df_tsla = pd.read_csv(\"../Data/TSLA_historical_data.csv\")  \n"
   ]
  },
  {
   "cell_type": "code",
   "execution_count": 38,
   "id": "ea0a1b00",
   "metadata": {},
   "outputs": [],
   "source": [
    "\n",
    "# Normalize Date Formats (correct way)\n",
    "stock_df_apple['Date'] = pd.to_datetime(stock_df_apple['Date']).dt.date\n",
    "stock_df_amzn['Date'] = pd.to_datetime(stock_df_amzn['Date']).dt.date\n",
    "stock_df_goog['Date'] = pd.to_datetime(stock_df_goog['Date']).dt.date\n",
    "stock_df_meta['Date'] = pd.to_datetime(stock_df_meta['Date']).dt.date\n",
    "stock_df_msft['Date'] = pd.to_datetime(stock_df_msft['Date']).dt.date\n",
    "stock_df_nvda['Date'] = pd.to_datetime(stock_df_nvda['Date']).dt.date\n",
    "news_data['date'] = pd.to_datetime(news_data['date'], errors='coerce')  # Let pandas infer the format\n",
    "news_data = news_data.dropna(subset=['date'])  # Drop rows where date parsing failed\n",
    "news_data['date'] = news_data['date'].dt.date  # Extract only the date part\n",
    "\n",
    "# Drop rows with invalid dates\n",
    "news_data = news_data.dropna(subset=['date'])\n",
    "\n"
   ]
  },
  {
   "cell_type": "code",
   "execution_count": 39,
   "id": "bdedba24",
   "metadata": {},
   "outputs": [],
   "source": [
    "# Sentiment Analysis Function\n",
    "def get_sentiment(text):\n",
    "    return TextBlob(str(text)).sentiment.polarity\n",
    "\n",
    "# Apply Sentiment Analysis\n",
    "news_data['sentiment'] = news_data['headline'].apply(get_sentiment)\n",
    "\n",
    "# Aggregate Sentiment by Date\n",
    "daily_sentiment = news_data.groupby('date')['sentiment'].mean().reset_index()\n",
    "daily_sentiment.columns = ['Date', 'Average_Sentiment']\n",
    "\n"
   ]
  },
  {
   "cell_type": "code",
   "execution_count": null,
   "id": "65934297",
   "metadata": {},
   "outputs": [
    {
     "name": "stdout",
     "output_type": "stream",
     "text": [
      "Sample Merged Data apple:\n",
      "         Date      Close  Daily_Return  Average_Sentiment\n",
      "0  2011-04-27  12.505357     -0.000771           0.000000\n",
      "1  2011-04-28  12.383929     -0.009710           0.068182\n",
      "2  2011-04-29  12.504643      0.009748           0.166667\n",
      "3  2011-05-02  12.367143     -0.010996          -0.009259\n",
      "4  2011-05-03  12.435714      0.005545           0.000000\n",
      "\n",
      "Pearson Correlation between Sentiment and Daily Return:\n",
      "-0.002\n"
     ]
    }
   ],
   "source": [
    "# Sort and Compute Daily Returns in Stock Data of apple\n",
    "stock_df_apple = stock_df_apple.sort_values('Date')\n",
    "stock_df_apple['Daily_Return'] = stock_df_apple['Close'].pct_change()\n",
    "\n",
    "# Merge Stock and News Data on Date of apple\n",
    "merged_data_apple = pd.merge(stock_df_apple, daily_sentiment, on='Date', how='inner')\n",
    "\n",
    "# Correlation Analysis\n",
    "correlation = merged_data_apple[['Daily_Return', 'Average_Sentiment']].corr().iloc[0, 1]\n",
    "\n",
    "# Print Sample Merged Data and Correlation Result\n",
    "print(\"Sample Merged Data APPLE:\")\n",
    "print(merged_data_apple[['Date', 'Close', 'Daily_Return', 'Average_Sentiment']].head())\n",
    "\n",
    "print(\"\\nPearson Correlation between Sentiment and Daily Return:\")\n",
    "print(round(correlation, 4))\n"
   ]
  },
  {
   "cell_type": "code",
   "execution_count": 42,
   "id": "1aa5ce14",
   "metadata": {},
   "outputs": [
    {
     "name": "stdout",
     "output_type": "stream",
     "text": [
      "Sample Merged Data AMAZON:\n",
      "         Date    Close  Daily_Return  Average_Sentiment\n",
      "0  2011-04-27   9.8315      0.078607           0.000000\n",
      "1  2011-04-28   9.7535     -0.007934           0.068182\n",
      "2  2011-04-29   9.7905      0.003793           0.166667\n",
      "3  2011-05-02  10.0595      0.027476          -0.009259\n",
      "4  2011-05-03   9.9225     -0.013619           0.000000\n",
      "\n",
      "Pearson Correlation between Sentiment and Daily Return:\n",
      "-0.0194\n"
     ]
    }
   ],
   "source": [
    "# Sort and Compute Daily Returns in Stock Data of Amazon\n",
    "stock_df_amzn = stock_df_amzn.sort_values('Date')\n",
    "stock_df_amzn['Daily_Return'] = stock_df_amzn['Close'].pct_change()\n",
    "\n",
    "# Merge Stock and News Data on Date of apple\n",
    "merged_data_amazon = pd.merge(stock_df_amzn, daily_sentiment, on='Date', how='inner')\n",
    "\n",
    "# Correlation Analysis\n",
    "correlation = merged_data_amazon[['Daily_Return', 'Average_Sentiment']].corr().iloc[0, 1]\n",
    "\n",
    "# Print Sample Merged Data and Correlation Result\n",
    "print(\"Sample Merged Data AMAZON:\")\n",
    "print(merged_data_amazon[['Date', 'Close', 'Daily_Return', 'Average_Sentiment']].head())\n",
    "\n",
    "print(\"\\nPearson Correlation between Sentiment and Daily Return:\")\n",
    "print(round(correlation, 4))"
   ]
  },
  {
   "cell_type": "code",
   "execution_count": 44,
   "id": "47b92dc8",
   "metadata": {},
   "outputs": [
    {
     "name": "stdout",
     "output_type": "stream",
     "text": [
      "Sample Merged Data GOOGLE\n",
      "         Date      Close  Daily_Return  Average_Sentiment\n",
      "0  2011-04-27  13.393797      0.009271           0.000000\n",
      "1  2011-04-28  13.399027      0.000390           0.068182\n",
      "2  2011-04-29  13.551705      0.011395           0.166667\n",
      "3  2011-05-02  13.413722     -0.010182          -0.009259\n",
      "4  2011-05-03  13.297408     -0.008671           0.000000\n",
      "\n",
      "Pearson Correlation between Sentiment and Daily Return:\n",
      "0.0143\n"
     ]
    }
   ],
   "source": [
    "\n",
    "# Sort and Compute Daily Returns in Stock Data of Amazon\n",
    "stock_df_goog = stock_df_goog.sort_values('Date')\n",
    "stock_df_goog['Daily_Return'] = stock_df_goog['Close'].pct_change()\n",
    "\n",
    "# Merge Stock and News Data on Date of apple\n",
    "merged_data_goog = pd.merge(stock_df_goog, daily_sentiment, on='Date', how='inner')\n",
    "\n",
    "# Correlation Analysis\n",
    "correlation = merged_data_goog[['Daily_Return', 'Average_Sentiment']].corr().iloc[0, 1]\n",
    "\n",
    "# Print Sample Merged Data and Correlation Result\n",
    "print(\"Sample Merged Data GOOGLE\")\n",
    "print(merged_data_goog[['Date', 'Close', 'Daily_Return', 'Average_Sentiment']].head())\n",
    "\n",
    "print(\"\\nPearson Correlation between Sentiment and Daily Return:\")\n",
    "print(round(correlation, 4))\n"
   ]
  },
  {
   "cell_type": "code",
   "execution_count": 45,
   "id": "f57785bb",
   "metadata": {},
   "outputs": [
    {
     "name": "stdout",
     "output_type": "stream",
     "text": [
      "Sample Merged Data META:\n",
      "         Date      Close  Daily_Return  Average_Sentiment\n",
      "0  2012-12-12  27.580000           NaN           0.000000\n",
      "1  2012-12-13  28.240000      0.023930           0.008333\n",
      "2  2012-12-14  26.809999     -0.050637          -0.070000\n",
      "3  2012-12-17  26.750000     -0.002238           0.000000\n",
      "4  2012-12-18  27.709999      0.035888           0.000000\n",
      "\n",
      "Pearson Correlation between Sentiment and Daily Return:\n",
      "-0.0061\n"
     ]
    }
   ],
   "source": [
    "# Sort and Compute Daily Returns in Stock Data of Amazon\n",
    "stock_df_meta = stock_df_meta.sort_values('Date')\n",
    "stock_df_meta['Daily_Return'] = stock_df_meta['Close'].pct_change()\n",
    "\n",
    "# Merge Stock and News Data on Date of apple\n",
    "merged_data_meta = pd.merge(stock_df_meta, daily_sentiment, on='Date', how='inner')\n",
    "\n",
    "# Correlation Analysis\n",
    "correlation = merged_data_meta[['Daily_Return', 'Average_Sentiment']].corr().iloc[0, 1]\n",
    "\n",
    "# Print Sample Merged Data and Correlation Result\n",
    "print(\"Sample Merged Data META:\")\n",
    "print(merged_data_meta[['Date', 'Close', 'Daily_Return', 'Average_Sentiment']].head())\n",
    "\n",
    "print(\"\\nPearson Correlation between Sentiment and Daily Return:\")\n",
    "print(round(correlation, 4))"
   ]
  },
  {
   "cell_type": "code",
   "execution_count": 46,
   "id": "4fb903b4",
   "metadata": {},
   "outputs": [
    {
     "name": "stdout",
     "output_type": "stream",
     "text": [
      "Sample Merged Data MICROSOFT:\n",
      "         Date      Close  Daily_Return  Average_Sentiment\n",
      "0  2011-04-27  26.379999      0.007255           0.000000\n",
      "1  2011-04-28  26.709999      0.012509           0.068182\n",
      "2  2011-04-29  25.920000     -0.029577           0.166667\n",
      "3  2011-05-02  25.660000     -0.010031          -0.009259\n",
      "4  2011-05-03  25.809999      0.005846           0.000000\n",
      "\n",
      "Pearson Correlation between Sentiment and Daily Return:\n",
      "-0.0128\n"
     ]
    }
   ],
   "source": [
    "# Sort and Compute Daily Returns in Stock Data of Amazon\n",
    "stock_df_msft = stock_df_msft.sort_values('Date')\n",
    "stock_df_msft['Daily_Return'] = stock_df_msft['Close'].pct_change()\n",
    "\n",
    "# Merge Stock and News Data on Date of apple\n",
    "merged_data_msft = pd.merge(stock_df_msft, daily_sentiment, on='Date', how='inner')\n",
    "\n",
    "# Correlation Analysis\n",
    "correlation = merged_data_msft[['Daily_Return', 'Average_Sentiment']].corr().iloc[0, 1]\n",
    "\n",
    "# Print Sample Merged Data and Correlation Result\n",
    "print(\"Sample Merged Data MICROSOFT:\")\n",
    "print(merged_data_msft[['Date', 'Close', 'Daily_Return', 'Average_Sentiment']].head())\n",
    "\n",
    "print(\"\\nPearson Correlation between Sentiment and Daily Return:\")\n",
    "print(round(correlation, 4))"
   ]
  },
  {
   "cell_type": "code",
   "execution_count": 47,
   "id": "e502b45b",
   "metadata": {},
   "outputs": [
    {
     "name": "stdout",
     "output_type": "stream",
     "text": [
      "Sample Merged Data NIVIDA:\n",
      "         Date    Close  Daily_Return  Average_Sentiment\n",
      "0  2011-04-27  0.48250      0.000000           0.000000\n",
      "1  2011-04-28  0.48775      0.010881           0.068182\n",
      "2  2011-04-29  0.50000      0.025115           0.166667\n",
      "3  2011-05-02  0.49325     -0.013500          -0.009259\n",
      "4  2011-05-03  0.46975     -0.047643           0.000000\n",
      "\n",
      "Pearson Correlation between Sentiment and Daily Return:\n",
      "0.0093\n"
     ]
    }
   ],
   "source": [
    "# Sort and Compute Daily Returns in Stock Data of Amazon\n",
    "stock_df_nvda = stock_df_nvda.sort_values('Date')\n",
    "stock_df_nvda['Daily_Return'] = stock_df_nvda['Close'].pct_change()\n",
    "\n",
    "# Merge Stock and News Data on Date of apple\n",
    "merged_data_nvda = pd.merge(stock_df_nvda, daily_sentiment, on='Date', how='inner')\n",
    "\n",
    "# Correlation Analysis\n",
    "correlation = merged_data_nvda[['Daily_Return', 'Average_Sentiment']].corr().iloc[0, 1]\n",
    "\n",
    "# Print Sample Merged Data and Correlation Result\n",
    "print(\"Sample Merged Data NIVIDA:\")\n",
    "print(merged_data_nvda[['Date', 'Close', 'Daily_Return', 'Average_Sentiment']].head())\n",
    "\n",
    "print(\"\\nPearson Correlation between Sentiment and Daily Return:\")\n",
    "print(round(correlation, 4))"
   ]
  },
  {
   "cell_type": "code",
   "execution_count": null,
   "id": "40d5e7ed",
   "metadata": {},
   "outputs": [
    {
     "name": "stdout",
     "output_type": "stream",
     "text": [
      "Sample Merged Data TSLA:\n",
      "Empty DataFrame\n",
      "Columns: [Date, Close, Daily_Return, Average_Sentiment]\n",
      "Index: []\n",
      "\n",
      "Pearson Correlation between Sentiment and Daily Return:\n",
      "nan\n"
     ]
    }
   ],
   "source": [
    "# Sort and Compute Daily Returns in Stock Data of Amazon\n",
    "stock_df_tsla = stock_df_tsla.sort_values('Date')\n",
    "stock_df_tsla['Daily_Return'] = stock_df_tsla['Close'].pct_change()\n",
    "\n",
    "# Merge Stock and News Data on Date of apple\n",
    "merged_data_tsla = pd.merge(stock_df_tsla, daily_sentiment, on='Date', how='inner')\n",
    "\n",
    "# Correlation Analysis\n",
    "correlation = merged_data_tsla[['Daily_Return', 'Average_Sentiment']].corr().iloc[0, 1]\n",
    "\n",
    "# Print Sample Merged Data and Correlation Result\n",
    "print(\"Sample Merged Data TSLA:\")\n",
    "print(merged_data_tsla[['Date', 'Close', 'Daily_Return', 'Average_Sentiment']].head())\n",
    "\n",
    "print(\"\\nPearson Correlation between Sentiment and Daily Return:\")\n",
    "print(round(correlation, 4))"
   ]
  },
  {
   "cell_type": "code",
   "execution_count": null,
   "id": "e5e2ea83",
   "metadata": {},
   "outputs": [],
   "source": []
  }
 ],
 "metadata": {
  "kernelspec": {
   "display_name": "venv",
   "language": "python",
   "name": "python3"
  },
  "language_info": {
   "codemirror_mode": {
    "name": "ipython",
    "version": 3
   },
   "file_extension": ".py",
   "mimetype": "text/x-python",
   "name": "python",
   "nbconvert_exporter": "python",
   "pygments_lexer": "ipython3",
   "version": "3.12.7"
  }
 },
 "nbformat": 4,
 "nbformat_minor": 5
}
