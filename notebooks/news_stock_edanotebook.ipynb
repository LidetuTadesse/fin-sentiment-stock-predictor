{
 "cells": [
  {
   "cell_type": "code",
   "execution_count": null,
   "id": "e595242d",
   "metadata": {},
   "outputs": [],
   "source": [
    "# Step 1: Load Data and Packages\n",
    "import pandas as pd\n",
    "import matplotlib.pyplot as plt\n",
    "import seaborn as sns\n",
    "import nltk\n",
    "import re\n",
    "from wordcloud import WordCloud\n",
    "from sklearn.feature_extraction.text import CountVectorizer\n",
    "from nltk.corpus import stopwords\n"
   ]
  },
  {
   "cell_type": "code",
   "execution_count": null,
   "id": "2aa72af7",
   "metadata": {},
   "outputs": [],
   "source": [
    "nltk.download(\"stopwords\")"
   ]
  },
  {
   "cell_type": "code",
   "execution_count": null,
   "id": "dc43a1ed",
   "metadata": {},
   "outputs": [],
   "source": [
    "# Loding csv file\n",
    "df = pd.read_csv(\"../data/raw_analyst_ratings.csv\")"
   ]
  },
  {
   "cell_type": "code",
   "execution_count": null,
   "id": "56206bff",
   "metadata": {},
   "outputs": [],
   "source": [
    "# Drop unnamed index column if exists\n",
    "df = df.drop(columns=[\"Unnamed: 0\"], errors=\"ignore\")"
   ]
  },
  {
   "cell_type": "code",
   "execution_count": null,
   "id": "0dcf9573",
   "metadata": {},
   "outputs": [],
   "source": [
    "# Convert date to datetime\n",
    "df[\"date\"] = pd.to_datetime(df[\"date\"], errors=\"coerce\")\n",
    "df = df.dropna(subset=[\"date\"])"
   ]
  },
  {
   "cell_type": "code",
   "execution_count": null,
   "id": "c19f5f37",
   "metadata": {},
   "outputs": [],
   "source": [
    "# Step 2: Descriptive Statistics - Headline Length\n",
    "df[\"headline_length\"] = df[\"headline\"].astype(str).apply(len)\n",
    "print(df[\"headline_length\"].describe())\n",
    "\n",
    "plt.figure(figsize=(8, 4))\n",
    "sns.histplot(df[\"headline_length\"], bins=40, kde=True)\n",
    "plt.title(\"Headline Length Distribution\")\n",
    "plt.xlabel(\"Length\")\n",
    "plt.ylabel(\"Frequency\")\n",
    "plt.show()"
   ]
  },
  {
   "cell_type": "code",
   "execution_count": null,
   "id": "e99c4523",
   "metadata": {},
   "outputs": [],
   "source": [
    "# Step 3: Publisher Counts\n",
    "publisher_counts = df[\"publisher\"].value_counts()\n",
    "print(publisher_counts.head())\n",
    "\n",
    "plt.figure(figsize=(10, 5))\n",
    "sns.barplot(x=publisher_counts.head(10).values, y=publisher_counts.head(10).index)\n",
    "plt.title(\"Top 10 Publishers by Article Count\")\n",
    "plt.xlabel(\"Number of Articles\")\n",
    "plt.ylabel(\"Publisher\")\n",
    "plt.show()"
   ]
  },
  {
   "cell_type": "code",
   "execution_count": null,
   "id": "3d8086fd",
   "metadata": {},
   "outputs": [],
   "source": [
    "# Step 4: Articles Over Time\n",
    "daily_counts = df[\"date\"].dt.date.value_counts().sort_index()\n",
    "\n",
    "plt.figure(figsize=(14, 5))\n",
    "daily_counts.plot()\n",
    "plt.title(\"Daily Article Volume Over Time\")\n",
    "plt.xlabel(\"Date\")\n",
    "plt.ylabel(\"Number of Articles\")\n",
    "plt.grid(True)\n",
    "plt.show()"
   ]
  },
  {
   "cell_type": "code",
   "execution_count": null,
   "id": "e85d2700",
   "metadata": {},
   "outputs": [],
   "source": [
    "# Step 5: Topic Modeling / Word Frequency\n",
    "stop_words = set(stopwords.words(\"english\"))\n",
    "\n",
    "def clean_text(text):\n",
    "    text = str(text).lower()\n",
    "    text = re.sub(r\"[^a-zA-Z\\s]\", \" \", text)\n",
    "    text = re.sub(r\"\\s+\", \" \", text)\n",
    "    return ' '.join([word for word in text.split() if word not in stop_words])\n",
    "\n",
    "df[\"clean_headline\"] = df[\"headline\"].apply(clean_text)\n",
    "\n",
    "vectorizer = CountVectorizer(max_features=100, stop_words='english')\n",
    "X = vectorizer.fit_transform(df[\"clean_headline\"])\n",
    "words = vectorizer.get_feature_names_out()\n",
    "word_freq = X.sum(axis=0).A1\n",
    "\n",
    "word_df = pd.DataFrame({\"word\": words, \"frequency\": word_freq}).sort_values(by=\"frequency\", ascending=False)\n",
    "\n",
    "plt.figure(figsize=(12, 6))\n",
    "sns.barplot(x=\"frequency\", y=\"word\", data=word_df.head(20))\n",
    "plt.title(\"Top 20 Keywords in Headlines\")\n",
    "plt.show()\n",
    "\n",
    "# WordCloud\n",
    "wordcloud = WordCloud(width=800, height=400, background_color='white').generate(\" \".join(df[\"clean_headline\"]))\n",
    "plt.figure(figsize=(10, 5))\n",
    "plt.imshow(wordcloud, interpolation='bilinear')\n",
    "plt.axis(\"off\")\n",
    "plt.title(\"Headline Word Cloud\")\n",
    "plt.show()"
   ]
  },
  {
   "cell_type": "code",
   "execution_count": null,
   "id": "04abf732",
   "metadata": {},
   "outputs": [],
   "source": [
    "# Step 6: Publishing Time of Day\n",
    "df[\"hour\"] = df[\"date\"].dt.hour\n",
    "hourly_counts = df[\"hour\"].value_counts().sort_index()\n",
    "\n",
    "plt.figure(figsize=(10, 5))\n",
    "sns.barplot(x=hourly_counts.index, y=hourly_counts.values)\n",
    "plt.title(\"News Article Frequency by Hour of Day\")\n",
    "plt.xlabel(\"Hour of Day\")\n",
    "plt.ylabel(\"Number of Articles\")\n",
    "plt.show()"
   ]
  },
  {
   "cell_type": "code",
   "execution_count": null,
   "id": "1c498b2a",
   "metadata": {},
   "outputs": [],
   "source": [
    "# Count top publishers\n",
    "top_publishers = df[\"publisher\"].value_counts().head(10)\n",
    "\n",
    "top_publishers.plot(kind=\"barh\", figsize=(8, 4), title=\"Top Publishers by Article Count\")\n",
    "plt.xlabel(\"Number of Articles\")\n",
    "plt.tight_layout()\n",
    "plt.show()"
   ]
  },
  {
   "cell_type": "code",
   "execution_count": null,
   "id": "fad1bc05",
   "metadata": {},
   "outputs": [],
   "source": [
    "# Step 8: Stock-Specific Analysis\n",
    "stock_counts = df[\"stock\"].value_counts()\n",
    "print(\"Top mentioned stocks:\")\n",
    "print(stock_counts.head())\n",
    "\n",
    "plt.figure(figsize=(10, 5))\n",
    "sns.barplot(x=stock_counts.head(10).values, y=stock_counts.head(10).index)\n",
    "plt.title(\"Top 10 Mentioned Stocks\")\n",
    "plt.xlabel(\"Mentions\")\n",
    "plt.ylabel(\"Stock Ticker\")\n",
    "plt.show()\n",
    "\n",
    "# Mentions over time (top 3 stocks)\n",
    "top_stocks = stock_counts.head(3).index\n",
    "df_top_stocks = df[df[\"stock\"].isin(top_stocks)]\n",
    "\n",
    "df_top_stocks[\"date_only\"] = df_top_stocks[\"date\"].dt.date\n",
    "pivot = df_top_stocks.pivot_table(index=\"date_only\", columns=\"stock\", aggfunc=\"size\", fill_value=0)\n",
    "\n",
    "pivot.plot(figsize=(12, 6), title=\"Daily News Mentions by Top Stocks\")\n",
    "plt.ylabel(\"Mentions\")\n",
    "plt.xlabel(\"Date\")\n",
    "plt.grid(True)\n",
    "plt.show()"
   ]
  },
  {
   "cell_type": "code",
   "execution_count": null,
   "id": "23ef7909",
   "metadata": {},
   "outputs": [],
   "source": []
  }
 ],
 "metadata": {
  "kernelspec": {
   "display_name": "venv",
   "language": "python",
   "name": "python3"
  },
  "language_info": {
   "codemirror_mode": {
    "name": "ipython",
    "version": 3
   },
   "file_extension": ".py",
   "mimetype": "text/x-python",
   "name": "python",
   "nbconvert_exporter": "python",
   "pygments_lexer": "ipython3",
   "version": "3.12.7"
  }
 },
 "nbformat": 4,
 "nbformat_minor": 5
}
